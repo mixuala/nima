{
 "cells": [
  {
   "cell_type": "markdown",
   "metadata": {},
   "source": [
    "# NIMA: Neural Image Assessment\n",
    "replicate model for NIMA image assessment\n",
    "see: \n",
    "* https://research.googleblog.com/2017/12/introducing-nima-neural-image-assessment.html\n",
    "* https://arxiv.org/abs/1709.05424\n",
    "\n"
   ]
  },
  {
   "cell_type": "markdown",
   "metadata": {
    "collapsed": true
   },
   "source": [
    "## Table of Contents\n",
    "<a href=\"#Install\">Installation and setup</a><br>"
   ]
  },
  {
   "cell_type": "markdown",
   "metadata": {},
   "source": [
    "## Overview\n",
    "### Components\n",
    "tensorflow models for VGG16, Inception-v2, MobileNet\n",
    "* https://github.com/tensorflow/models/tree/master/research/slim\n",
    "\n",
    "training datasets\n",
    "* AVA: A largescale database for aesthetic visual analysis\n",
    "  * http://refbase.cvc.uab.es/files/MMP2012a.pdf\n",
    "  * https://github.com/mtobeiyf/ava_downloader\n",
    "  * https://mega.nz/#F!hIEhQTLY key `!RkOnZv8Fz7EbYreHsiEzvA` (32GB)\n",
    "  * https://mega.nz/#!MUcXyBSB key `!0Q0Nq8_zBuSGiKmEHuKXKoAg8SDsB-21GwlJ22AJegU`\n",
    "  \n",
    "* TID2013: http://www.ponomarenko.info/tid2013.htm\n",
    "  * http://www.ponomarenko.info/tid2013/tid2013.rar (1GB)\n",
    "\n",
    "### Pipeline\n",
    "* input images are rescaled to 256 × 256, and then a crop of size 224 × 224 crop is randomly extracted.\n",
    "* random data augmentation in our training process is horizontal flipping of the image crops.\n",
    "\n",
    "### Score\n",
    "* mean quality score = `sum_N( s_i*p_i)`\n",
    "\n",
    "\n",
    "### Loss function\n",
    "* EMD (Earth Movers Distance) penalize mis-classifications according to class distances.\n",
    "  * https://gist.github.com/mjdietzx/a8121604385ce6da251d20d018f9a6d6\n",
    "  * https://www.tensorflow.org/api_docs/python/tf/distributions/Distribution\n",
    "* CMD, cumulative distr function, N_ava=10, N_tid=9\n",
    "    ```\n",
    "    EMD(p,phat) = (1/N.*sum_k( abs(CDF_p(k)-CDF_phat(k)).^2 )).^0.5\n",
    "    ```\n",
    "\n",
    "### Training\n",
    "* 80/20 train/test split on AVA and TID datasets\n",
    "\n",
    "hyperparameters\n",
    "  * `momentum=0.9, lambda=3e-7` \n",
    "  * `dropout=0.75` applied to last layer of baseline network\n",
    "\n",
    "FC layer, n=10, followed by softmax activations\n",
    "  * `lambda_fc=3e-6`\n",
    "\n",
    "lambda `decay=0.95` after every 10 epochs\n",
    "\n",
    "**???: how many epochs**\n",
    "\n",
    "\n",
    "  "
   ]
  },
  {
   "cell_type": "markdown",
   "metadata": {},
   "source": [
    "<a id='Install'></a>\n",
    "## Installation and Setup\n",
    "\n",
    "### Download datasets\n",
    "* AVA dataset is 32GB, 256K images\n",
    "* TID dataset is about 1GB, about 3K images\n"
   ]
  },
  {
   "cell_type": "code",
   "execution_count": 1,
   "metadata": {},
   "outputs": [
    {
     "name": "stdout",
     "output_type": "stream",
     "text": [
      "mkdir: DATA: File exists\r\n"
     ]
    }
   ],
   "source": [
    "# set key paths\n",
    "HOME = %pwd\n",
    "DATA = HOME + '/data'\n",
    "CKPT = HOME + '/ckpt'\n",
    "TMP = HOME + '/tmp'\n",
    "SLIM = HOME + '/models/research/slim'\n",
    "# print(HOME, DATA, CKPT, SLIM)\n",
    "AVA=DATA + '/ava'\n",
    "TID=DATA + '/tid'\n",
    "\n",
    "%mkdir DATA\n",
    "%mkdir AVA\n",
    "%mkdir TID"
   ]
  },
  {
   "cell_type": "code",
   "execution_count": 2,
   "metadata": {},
   "outputs": [
    {
     "name": "stdout",
     "output_type": "stream",
     "text": [
      "/dev.snappi/tensorflow/a-lamp/data\n",
      "--2017-12-28 17:30:39--  http://www.ponomarenko.info/tid2013/tid2013.rar\n",
      "Resolving www.ponomarenko.info... 95.213.182.162\n",
      "Connecting to www.ponomarenko.info|95.213.182.162|:80... connected.\n",
      "HTTP request sent, awaiting response... 200 OK\n",
      "Length: 957680241 (913M) [application/x-rar-compressed]\n",
      "Saving to: 'tid2013.rar'\n",
      "\n",
      "tid2013.rar           8%[>                   ]  78.81M  1.01MB/s    eta 9m 15s ^C\n"
     ]
    }
   ],
   "source": [
    "%cd $DATA\n",
    "# download tid, 1GB \n",
    "!wget http://www.ponomarenko.info/tid2013/tid2013.rar"
   ]
  },
  {
   "cell_type": "code",
   "execution_count": 3,
   "metadata": {},
   "outputs": [
    {
     "name": "stdout",
     "output_type": "stream",
     "text": [
      "Collecting unrar\n",
      "Installing collected packages: unrar\n",
      "Successfully installed unrar-0.2\n"
     ]
    }
   ],
   "source": [
    "# rar archiver for python/conda, https://anaconda.org/pypi/unrar\n",
    "!pip install -i https://pypi.anaconda.org/pypi/simple unrar\n",
    "#!conda install -c mlgill rarfile "
   ]
  },
  {
   "cell_type": "markdown",
   "metadata": {},
   "source": [
    "### Tensorflow Models with Pre-trained Weights"
   ]
  },
  {
   "cell_type": "code",
   "execution_count": 4,
   "metadata": {},
   "outputs": [
    {
     "name": "stdout",
     "output_type": "stream",
     "text": [
      "/dev.snappi/tensorflow/a-lamp\n",
      "fatal: destination path 'models' already exists and is not an empty directory.\n"
     ]
    }
   ],
   "source": [
    "%cd $HOME\n",
    "!git clone https://github.com/tensorflow/models/"
   ]
  },
  {
   "cell_type": "code",
   "execution_count": 5,
   "metadata": {},
   "outputs": [
    {
     "name": "stdout",
     "output_type": "stream",
     "text": [
      "/dev.snappi/tensorflow/a-lamp/models/research/slim\n"
     ]
    }
   ],
   "source": [
    "# check tf-slim install\n",
    "%cd $SLIM\n",
    "!python -c \"from nets import cifarnet; mynet = cifarnet.cifarnet\"\n"
   ]
  },
  {
   "cell_type": "code",
   "execution_count": 6,
   "metadata": {},
   "outputs": [
    {
     "name": "stdout",
     "output_type": "stream",
     "text": [
      "/dev.snappi/tensorflow/a-lamp/models/research/slim\n"
     ]
    }
   ],
   "source": [
    "%cd $SLIM\n",
    "from __future__ import absolute_import\n",
    "from __future__ import division\n",
    "from __future__ import print_function\n",
    "\n",
    "import matplotlib\n",
    "%matplotlib inline\n",
    "import matplotlib.pyplot as plt\n",
    "import math\n",
    "import numpy as np\n",
    "import tensorflow as tf\n",
    "import time\n",
    "\n",
    "from datasets import dataset_utils\n",
    "\n",
    "# Main slim library\n",
    "from tensorflow.contrib import slim"
   ]
  },
  {
   "cell_type": "code",
   "execution_count": 7,
   "metadata": {},
   "outputs": [
    {
     "name": "stdout",
     "output_type": "stream",
     "text": [
      "/dev.snappi/tensorflow/a-lamp/tmp\n",
      "--2017-12-28 17:32:04--  http://download.tensorflow.org/models/vgg_16_2016_08_28.tar.gz\n",
      "Resolving download.tensorflow.org... 216.58.211.112, 2a00:1450:400e:809::2010\n",
      "Connecting to download.tensorflow.org|216.58.211.112|:80... connected.\n",
      "HTTP request sent, awaiting response... 200 OK\n",
      "Length: 513324920 (490M) [application/x-tar]\n",
      "Saving to: 'vgg_16_2016_08_28.tar.gz'\n",
      "\n",
      "vgg_16_2016_08_28.t 100%[===================>] 489.54M  3.12MB/s    in 2m 47s  \n",
      "\n",
      "2017-12-28 17:34:53 (2.93 MB/s) - 'vgg_16_2016_08_28.tar.gz' saved [513324920/513324920]\n",
      "\n",
      "x vgg_16.ckpt\n",
      "--2017-12-28 17:35:17--  http://download.tensorflow.org/models/inception_v2_2016_08_28.tar.gz\n",
      "Resolving download.tensorflow.org... 216.58.211.112, 2a00:1450:400e:809::2010\n",
      "Connecting to download.tensorflow.org|216.58.211.112|:80... connected.\n",
      "HTTP request sent, awaiting response... 200 OK\n",
      "Length: 41577079 (40M) [application/x-tar]\n",
      "Saving to: 'inception_v2_2016_08_28.tar.gz'\n",
      "\n",
      "inception_v2_2016_0 100%[===================>]  39.65M  3.01MB/s    in 16s     \n",
      "\n",
      "2017-12-28 17:35:34 (2.52 MB/s) - 'inception_v2_2016_08_28.tar.gz' saved [41577079/41577079]\n",
      "\n",
      "x inception_v2.ckpt\n",
      "--2017-12-28 17:35:36--  http://download.tensorflow.org/models/mobilenet_v1_1.0_224_2017_06_14.tar.gz\n",
      "Resolving download.tensorflow.org... 216.58.211.112, 2a00:1450:400e:809::2010\n",
      "Connecting to download.tensorflow.org|216.58.211.112|:80... connected.\n",
      "HTTP request sent, awaiting response... 200 OK\n",
      "Length: 62967930 (60M) [application/x-tar]\n",
      "Saving to: 'mobilenet_v1_1.0_224_2017_06_14.tar.gz'\n",
      "\n",
      "mobilenet_v1_1.0_22 100%[===================>]  60.05M  2.41MB/s    in 23s     \n",
      "\n",
      "2017-12-28 17:36:01 (2.59 MB/s) - 'mobilenet_v1_1.0_224_2017_06_14.tar.gz' saved [62967930/62967930]\n",
      "\n",
      "x mobilenet_v1_1.0_224.ckpt.data-00000-of-00001\n",
      "x mobilenet_v1_1.0_224.ckpt.meta\n",
      "x mobilenet_v1_1.0_224.ckpt.index\n"
     ]
    }
   ],
   "source": [
    "# download tensorflow checkpoints, i.e. pre-trained weights\n",
    "!mkdir -p $CKPT\n",
    "!mkdir -p $TMP\n",
    "%cd $TMP\n",
    "\n",
    "### download model checkpoint\n",
    "# vgg16\n",
    "!wget http://download.tensorflow.org/models/vgg_16_2016_08_28.tar.gz\n",
    "!tar -xvf vgg_16_2016_08_28.tar.gz\n",
    "%mv vgg_16.ckpt $CKPT\n",
    "%rm vgg_16_2016_08_28.tar.gz\n",
    "\n",
    "# inception-v2\n",
    "!wget http://download.tensorflow.org/models/inception_v2_2016_08_28.tar.gz\n",
    "!tar -xvf inception_v2_2016_08_28.tar.gz\n",
    "%mv inception_v2.ckpt $CKPT\n",
    "%rm inception_v2_2016_08_28.tar.gz\n",
    "\n",
    "# MobileNet\n",
    "!wget http://download.tensorflow.org/models/mobilenet_v1_1.0_224_2017_06_14.tar.gz\n",
    "!tar -xvf mobilenet_v1_1.0_224_2017_06_14.tar.gz\n",
    "%mv mobilenet_v1_1.0_224.ckpt.* $CKPT\n",
    "%rm mobilenet_v1_1.0_224_2017_06_14.tar.gz  "
   ]
  },
  {
   "cell_type": "code",
   "execution_count": 8,
   "metadata": {},
   "outputs": [
    {
     "name": "stdout",
     "output_type": "stream",
     "text": [
      "\u001b[34mAVA_dataset\u001b[m\u001b[m/     \u001b[34mava\u001b[m\u001b[m/             tid2013.rar\r\n",
      "\u001b[31mAVA_dataset.zip\u001b[m\u001b[m* \u001b[34mtid\u001b[m\u001b[m/\r\n"
     ]
    }
   ],
   "source": [
    "%ls $DATA"
   ]
  },
  {
   "cell_type": "code",
   "execution_count": 9,
   "metadata": {},
   "outputs": [
    {
     "name": "stdout",
     "output_type": "stream",
     "text": [
      "/dev.snappi/tensorflow/a-lamp/data\n"
     ]
    }
   ],
   "source": [
    "%cd $DATA\n",
    "# OSX: brew install unrar\n",
    "# manually extract archive\n",
    "# unrar e tid2013.rar ./tid\n",
    "# %rm $DATA/tid2013.rar\n"
   ]
  },
  {
   "cell_type": "code",
   "execution_count": null,
   "metadata": {
    "collapsed": true
   },
   "outputs": [],
   "source": []
  }
 ],
 "metadata": {
  "kernelspec": {
   "display_name": "Python 3",
   "language": "python",
   "name": "python3"
  },
  "language_info": {
   "codemirror_mode": {
    "name": "ipython",
    "version": 3
   },
   "file_extension": ".py",
   "mimetype": "text/x-python",
   "name": "python",
   "nbconvert_exporter": "python",
   "pygments_lexer": "ipython3",
   "version": "3.6.3"
  }
 },
 "nbformat": 4,
 "nbformat_minor": 2
}
